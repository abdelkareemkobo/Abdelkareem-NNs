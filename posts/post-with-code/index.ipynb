{
  "cells": [
    {
      "cell_type": "raw",
      "metadata": {},
      "source": [
        "---\n",
        "title: \"Post With Code\"\n",
        "author: \"Harlow Malloc\"\n",
        "date: \"2022-10-08\"\n",
        "categories: [news, code, analysis]\n",
        "image: \"image.jpg\"\n",
        "---"
      ],
      "id": "fb6a3f23"
    },
    {
      "cell_type": "markdown",
      "metadata": {},
      "source": [
        "This is a post with executable code.\n"
      ],
      "id": "8ee3b590"
    },
    {
      "cell_type": "code",
      "metadata": {},
      "source": [
        "print(\"hello world \")"
      ],
      "id": "b2c0eb5e",
      "execution_count": null,
      "outputs": []
    },
    {
      "cell_type": "markdown",
      "metadata": {},
      "source": [
        "Hello world"
      ],
      "id": "bf60080e"
    }
  ],
  "metadata": {
    "kernelspec": {
      "name": "mykernel",
      "language": "python",
      "display_name": "mykernel"
    }
  },
  "nbformat": 4,
  "nbformat_minor": 5
}